{
 "cells": [
  {
   "cell_type": "code",
   "execution_count": 2,
   "metadata": {
    "colab": {
     "base_uri": "https://localhost:8080/",
     "height": 204
    },
    "colab_type": "code",
    "id": "gnwiOnGyW5JK",
    "outputId": "d65ebce8-efee-4fc8-b452-17fdc1206bd4"
   },
   "outputs": [
    {
     "name": "stdout",
     "output_type": "stream",
     "text": [
      "--2020-05-22 16:49:31--  https://storage.googleapis.com/laurencemoroney-blog.appspot.com/bbc-text.csv\n",
      "Resolving storage.googleapis.com (storage.googleapis.com)... 108.177.112.128, 2607:f8b0:4001:c12::80\n",
      "Connecting to storage.googleapis.com (storage.googleapis.com)|108.177.112.128|:443... connected.\n",
      "HTTP request sent, awaiting response... 200 OK\n",
      "Length: 5057493 (4.8M) [application/octet-stream]\n",
      "Saving to: ‘/tmp/bbc-text.csv’\n",
      "\n",
      "\r",
      "/tmp/bbc-text.csv     0%[                    ]       0  --.-KB/s               \r",
      "/tmp/bbc-text.csv   100%[===================>]   4.82M  --.-KB/s    in 0.07s   \n",
      "\n",
      "2020-05-22 16:49:31 (70.5 MB/s) - ‘/tmp/bbc-text.csv’ saved [5057493/5057493]\n",
      "\n"
     ]
    }
   ],
   "source": [
    "!wget --no-check-certificate \\\n",
    "    https://storage.googleapis.com/laurencemoroney-blog.appspot.com/bbc-text.csv \\\n",
    "    -O /tmp/bbc-text.csv"
   ]
  },
  {
   "cell_type": "code",
   "execution_count": 2,
   "metadata": {
    "colab": {},
    "colab_type": "code",
    "id": "EYo6A4v5ZABQ"
   },
   "outputs": [],
   "source": [
    "vocab_size = 1000\n",
    "embedding_dim = 16\n",
    "max_length = 120\n",
    "trunc_type =\"post\"\n",
    "padding_type = \"post\"\n",
    "oov_tok = \"<oov_token>\"\n",
    "training_portion = .8"
   ]
  },
  {
   "cell_type": "code",
   "execution_count": 3,
   "metadata": {
    "colab": {
     "base_uri": "https://localhost:8080/",
     "height": 34
    },
    "colab_type": "code",
    "id": "iU1qq3_SZBx_",
    "outputId": "d450941b-9297-4677-9531-73fb389df5cd"
   },
   "outputs": [
    {
     "name": "stdout",
     "output_type": "stream",
     "text": [
      "153\n"
     ]
    }
   ],
   "source": [
    "sentences = []\n",
    "labels = []\n",
    "stopwords = [ \"a\", \"about\", \"above\", \"after\", \"again\", \"against\", \"all\", \"am\", \"an\", \"and\", \"any\", \"are\", \"as\", \"at\", \"be\", \"because\", \"been\", \"before\", \"being\", \"below\", \"between\", \"both\", \"but\", \"by\", \"could\", \"did\", \"do\", \"does\", \"doing\", \"down\", \"during\", \"each\", \"few\", \"for\", \"from\", \"further\", \"had\", \"has\", \"have\", \"having\", \"he\", \"he'd\", \"he'll\", \"he's\", \"her\", \"here\", \"here's\", \"hers\", \"herself\", \"him\", \"himself\", \"his\", \"how\", \"how's\", \"i\", \"i'd\", \"i'll\", \"i'm\", \"i've\", \"if\", \"in\", \"into\", \"is\", \"it\", \"it's\", \"its\", \"itself\", \"let's\", \"me\", \"more\", \"most\", \"my\", \"myself\", \"nor\", \"of\", \"on\", \"once\", \"only\", \"or\", \"other\", \"ought\", \"our\", \"ours\", \"ourselves\", \"out\", \"over\", \"own\", \"same\", \"she\", \"she'd\", \"she'll\", \"she's\", \"should\", \"so\", \"some\", \"such\", \"than\", \"that\", \"that's\", \"the\", \"their\", \"theirs\", \"them\", \"themselves\", \"then\", \"there\", \"there's\", \"these\", \"they\", \"they'd\", \"they'll\", \"they're\", \"they've\", \"this\", \"those\", \"through\", \"to\", \"too\", \"under\", \"until\", \"up\", \"very\", \"was\", \"we\", \"we'd\", \"we'll\", \"we're\", \"we've\", \"were\", \"what\", \"what's\", \"when\", \"when's\", \"where\", \"where's\", \"which\", \"while\", \"who\", \"who's\", \"whom\", \"why\", \"why's\", \"with\", \"would\", \"you\", \"you'd\", \"you'll\", \"you're\", \"you've\", \"your\", \"yours\", \"yourself\", \"yourselves\" ]\n",
    "print(len(stopwords))\n",
    "# Expected Output\n",
    "# 153"
   ]
  },
  {
   "cell_type": "code",
   "execution_count": 8,
   "metadata": {},
   "outputs": [],
   "source": [
    "import pandas as pd\n",
    "import numpy as np\n",
    "from keras.preprocessing.text import Tokenizer\n",
    "from keras.preprocessing.sequence import pad_sequences\n",
    "import tensorflow as tf"
   ]
  },
  {
   "cell_type": "code",
   "execution_count": 17,
   "metadata": {
    "colab": {
     "base_uri": "https://localhost:8080/",
     "height": 88
    },
    "colab_type": "code",
    "id": "eutB2xMiZD0e",
    "outputId": "d1ae14bf-8f39-4ec4-88ce-1860a6ef5c04"
   },
   "outputs": [
    {
     "name": "stdout",
     "output_type": "stream",
     "text": [
      "2225\n",
      "2225\n"
     ]
    }
   ],
   "source": [
    "data= pd.read_csv(\"/tmp/bbc-text.csv\")\n",
    "data['text']= data['text'].apply(lambda x : ' '.join([i for i in x.split() if i not in stopwords]))\n",
    "sentences=list(data['text'])\n",
    "labels=np.array(data['category'])\n",
    "\n",
    "    \n",
    "print(len(labels))\n",
    "print(len(sentences))\n"
   ]
  },
  {
   "cell_type": "code",
   "execution_count": 18,
   "metadata": {
    "colab": {
     "base_uri": "https://localhost:8080/",
     "height": 102
    },
    "colab_type": "code",
    "id": "XfdaWh06ZGe3",
    "outputId": "4c63742e-40bd-4bbb-bd71-6a9bc7c364f5"
   },
   "outputs": [
    {
     "name": "stdout",
     "output_type": "stream",
     "text": [
      "1780\n",
      "1780\n",
      "1780\n",
      "445\n",
      "445\n"
     ]
    }
   ],
   "source": [
    "train_size = int(training_portion * len(sentences))\n",
    "\n",
    "train_sentences = sentences[0:train_size]\n",
    "train_labels = labels[0:train_size]\n",
    "\n",
    "validation_sentences =sentences[train_size:]\n",
    "validation_labels = labels[train_size:]\n",
    "\n",
    "print(train_size)\n",
    "print(len(train_sentences))\n",
    "print(len(train_labels))\n",
    "print(len(validation_sentences))\n",
    "print(len(validation_labels))\n",
    "\n",
    "# Expected output (if training_portion=.8)\n",
    "# 1780\n",
    "# 1780\n",
    "# 1780\n",
    "# 445\n",
    "# 445"
   ]
  },
  {
   "cell_type": "code",
   "execution_count": 19,
   "metadata": {
    "colab": {
     "base_uri": "https://localhost:8080/",
     "height": 119
    },
    "colab_type": "code",
    "id": "ULzA8xhwZI22",
    "outputId": "fbac12f2-2354-4c0b-c6bc-7123cfb7f5a1"
   },
   "outputs": [
    {
     "name": "stdout",
     "output_type": "stream",
     "text": [
      "449\n",
      "120\n",
      "200\n",
      "120\n",
      "192\n",
      "120\n"
     ]
    }
   ],
   "source": [
    "tokenizer = Tokenizer(num_words=vocab_size,oov_token=oov_tok)\n",
    "tokenizer.fit_on_texts(train_sentences)\n",
    "word_index = tokenizer.word_index\n",
    "\n",
    "train_sequences = tokenizer.texts_to_sequences(train_sentences)\n",
    "train_padded = pad_sequences(train_sequences,maxlen=max_length,truncating=trunc_type,padding=padding_type)\n",
    "\n",
    "print(len(train_sequences[0]))\n",
    "print(len(train_padded[0]))\n",
    "\n",
    "print(len(train_sequences[1]))\n",
    "print(len(train_padded[1]))\n",
    "\n",
    "print(len(train_sequences[10]))\n",
    "print(len(train_padded[10]))"
   ]
  },
  {
   "cell_type": "code",
   "execution_count": 20,
   "metadata": {
    "colab": {
     "base_uri": "https://localhost:8080/",
     "height": 51
    },
    "colab_type": "code",
    "id": "c8PeFWzPZLW_",
    "outputId": "51724b52-8b54-4cb5-c91f-7fd9213de046"
   },
   "outputs": [
    {
     "name": "stdout",
     "output_type": "stream",
     "text": [
      "445\n",
      "(445, 120)\n"
     ]
    }
   ],
   "source": [
    "validation_sequences = tokenizer.texts_to_sequences(validation_sentences)\n",
    "validation_padded = pad_sequences(validation_sequences,maxlen=max_length,truncating=trunc_type,padding=padding_type)\n",
    "\n",
    "print(len(validation_sequences))\n",
    "print(validation_padded.shape)\n"
   ]
  },
  {
   "cell_type": "code",
   "execution_count": 21,
   "metadata": {
    "colab": {
     "base_uri": "https://localhost:8080/",
     "height": 153
    },
    "colab_type": "code",
    "id": "XkWiQ_FKZNp2",
    "outputId": "ea5a8713-7482-4ac2-8f25-3d7df6e51028"
   },
   "outputs": [
    {
     "name": "stdout",
     "output_type": "stream",
     "text": [
      "[5]\n",
      "[2]\n",
      "[1]\n",
      "(1780, 1)\n",
      "[4]\n",
      "[5]\n",
      "[3]\n",
      "(445, 1)\n"
     ]
    }
   ],
   "source": [
    "label_tokenizer = Tokenizer()\n",
    "label_tokenizer.fit_on_texts(train_labels)\n",
    "\n",
    "training_label_seq = np.array(label_tokenizer.texts_to_sequences(train_labels))\n",
    "validation_label_seq = np.array(label_tokenizer.texts_to_sequences(validation_labels))\n",
    "\n",
    "print(training_label_seq[0])\n",
    "print(training_label_seq[1])\n",
    "print(training_label_seq[2])\n",
    "print(training_label_seq.shape)\n",
    "\n",
    "print(validation_label_seq[0])\n",
    "print(validation_label_seq[1])\n",
    "print(validation_label_seq[2])\n",
    "print(validation_label_seq.shape)\n"
   ]
  },
  {
   "cell_type": "code",
   "execution_count": 22,
   "metadata": {
    "colab": {
     "base_uri": "https://localhost:8080/",
     "height": 289
    },
    "colab_type": "code",
    "id": "HZ5um4MWZP-W",
    "outputId": "d74f694f-c718-442a-dabb-0ba7ddca29bf"
   },
   "outputs": [
    {
     "name": "stdout",
     "output_type": "stream",
     "text": [
      "Model: \"sequential\"\n",
      "_________________________________________________________________\n",
      "Layer (type)                 Output Shape              Param #   \n",
      "=================================================================\n",
      "embedding (Embedding)        (None, 120, 16)           16000     \n",
      "_________________________________________________________________\n",
      "global_average_pooling1d (Gl (None, 16)                0         \n",
      "_________________________________________________________________\n",
      "dense (Dense)                (None, 24)                408       \n",
      "_________________________________________________________________\n",
      "dense_1 (Dense)              (None, 6)                 150       \n",
      "=================================================================\n",
      "Total params: 16,558\n",
      "Trainable params: 16,558\n",
      "Non-trainable params: 0\n",
      "_________________________________________________________________\n"
     ]
    }
   ],
   "source": [
    "model = tf.keras.Sequential([tf.keras.layers.Embedding(\n",
    "    vocab_size,embedding_dim,input_length=max_length, mask_zero = True),\n",
    "     tf.keras.layers.GlobalAveragePooling1D(),\n",
    "    tf.keras.layers.Dense(24,activation='relu'),\n",
    "    tf.keras.layers.Dense(6,activation='sigmoid')])\n",
    "model.compile(loss='sparse_categorical_crossentropy',optimizer='adam',metrics=['accuracy'])\n",
    "model.summary()\n",
    "\n"
   ]
  },
  {
   "cell_type": "code",
   "execution_count": 23,
   "metadata": {
    "colab": {
     "base_uri": "https://localhost:8080/",
     "height": 1000
    },
    "colab_type": "code",
    "id": "XsfdxySKZSXu",
    "outputId": "d09d6a10-5924-4770-be5b-f046c3508d5e"
   },
   "outputs": [
    {
     "name": "stdout",
     "output_type": "stream",
     "text": [
      "Train on 1780 samples, validate on 445 samples\n",
      "Epoch 1/30\n",
      "1780/1780 [==============================] - 1s 350us/sample - loss: 1.7795 - accuracy: 0.2309 - val_loss: 1.7654 - val_accuracy: 0.2315\n",
      "Epoch 2/30\n",
      "1780/1780 [==============================] - 0s 131us/sample - loss: 1.7403 - accuracy: 0.3056 - val_loss: 1.7135 - val_accuracy: 0.2337\n",
      "Epoch 3/30\n",
      "1780/1780 [==============================] - 0s 116us/sample - loss: 1.6711 - accuracy: 0.2410 - val_loss: 1.6343 - val_accuracy: 0.2517\n",
      "Epoch 4/30\n",
      "1780/1780 [==============================] - 0s 115us/sample - loss: 1.5877 - accuracy: 0.3079 - val_loss: 1.5527 - val_accuracy: 0.4360\n",
      "Epoch 5/30\n",
      "1780/1780 [==============================] - 0s 94us/sample - loss: 1.4991 - accuracy: 0.5421 - val_loss: 1.4536 - val_accuracy: 0.6112\n",
      "Epoch 6/30\n",
      "1780/1780 [==============================] - 0s 77us/sample - loss: 1.3701 - accuracy: 0.7028 - val_loss: 1.3032 - val_accuracy: 0.6742\n",
      "Epoch 7/30\n",
      "1780/1780 [==============================] - 0s 70us/sample - loss: 1.1776 - accuracy: 0.8067 - val_loss: 1.0884 - val_accuracy: 0.8067\n",
      "Epoch 8/30\n",
      "1780/1780 [==============================] - 0s 70us/sample - loss: 0.9380 - accuracy: 0.8551 - val_loss: 0.8701 - val_accuracy: 0.8225\n",
      "Epoch 9/30\n",
      "1780/1780 [==============================] - 0s 78us/sample - loss: 0.7261 - accuracy: 0.9140 - val_loss: 0.7030 - val_accuracy: 0.8809\n",
      "Epoch 10/30\n",
      "1780/1780 [==============================] - 0s 90us/sample - loss: 0.5712 - accuracy: 0.9315 - val_loss: 0.5848 - val_accuracy: 0.8876\n",
      "Epoch 11/30\n",
      "1780/1780 [==============================] - 0s 81us/sample - loss: 0.4616 - accuracy: 0.9489 - val_loss: 0.4944 - val_accuracy: 0.9303\n",
      "Epoch 12/30\n",
      "1780/1780 [==============================] - 0s 86us/sample - loss: 0.3834 - accuracy: 0.9567 - val_loss: 0.4450 - val_accuracy: 0.9258\n",
      "Epoch 13/30\n",
      "1780/1780 [==============================] - 0s 121us/sample - loss: 0.3253 - accuracy: 0.9685 - val_loss: 0.3860 - val_accuracy: 0.9371\n",
      "Epoch 14/30\n",
      "1780/1780 [==============================] - 0s 82us/sample - loss: 0.2775 - accuracy: 0.9736 - val_loss: 0.3569 - val_accuracy: 0.9371\n",
      "Epoch 15/30\n",
      "1780/1780 [==============================] - 0s 80us/sample - loss: 0.2417 - accuracy: 0.9770 - val_loss: 0.3223 - val_accuracy: 0.9348\n",
      "Epoch 16/30\n",
      "1780/1780 [==============================] - 0s 74us/sample - loss: 0.2107 - accuracy: 0.9781 - val_loss: 0.3042 - val_accuracy: 0.9371\n",
      "Epoch 17/30\n",
      "1780/1780 [==============================] - 0s 78us/sample - loss: 0.1861 - accuracy: 0.9781 - val_loss: 0.2792 - val_accuracy: 0.9348\n",
      "Epoch 18/30\n",
      "1780/1780 [==============================] - 0s 82us/sample - loss: 0.1656 - accuracy: 0.9798 - val_loss: 0.2663 - val_accuracy: 0.9393\n",
      "Epoch 19/30\n",
      "1780/1780 [==============================] - 0s 84us/sample - loss: 0.1484 - accuracy: 0.9831 - val_loss: 0.2580 - val_accuracy: 0.9326\n",
      "Epoch 20/30\n",
      "1780/1780 [==============================] - 0s 74us/sample - loss: 0.1337 - accuracy: 0.9865 - val_loss: 0.2459 - val_accuracy: 0.9348\n",
      "Epoch 21/30\n",
      "1780/1780 [==============================] - 0s 76us/sample - loss: 0.1206 - accuracy: 0.9888 - val_loss: 0.2353 - val_accuracy: 0.9461\n",
      "Epoch 22/30\n",
      "1780/1780 [==============================] - 0s 77us/sample - loss: 0.1093 - accuracy: 0.9916 - val_loss: 0.2310 - val_accuracy: 0.9438\n",
      "Epoch 23/30\n",
      "1780/1780 [==============================] - 0s 78us/sample - loss: 0.0996 - accuracy: 0.9933 - val_loss: 0.2247 - val_accuracy: 0.9393\n",
      "Epoch 24/30\n",
      "1780/1780 [==============================] - 0s 76us/sample - loss: 0.0909 - accuracy: 0.9938 - val_loss: 0.2212 - val_accuracy: 0.9393\n",
      "Epoch 25/30\n",
      "1780/1780 [==============================] - 0s 77us/sample - loss: 0.0830 - accuracy: 0.9938 - val_loss: 0.2169 - val_accuracy: 0.9371\n",
      "Epoch 26/30\n",
      "1780/1780 [==============================] - 0s 77us/sample - loss: 0.0754 - accuracy: 0.9961 - val_loss: 0.2108 - val_accuracy: 0.9393\n",
      "Epoch 27/30\n",
      "1780/1780 [==============================] - 0s 79us/sample - loss: 0.0697 - accuracy: 0.9955 - val_loss: 0.2093 - val_accuracy: 0.9371\n",
      "Epoch 28/30\n",
      "1780/1780 [==============================] - 0s 112us/sample - loss: 0.0638 - accuracy: 0.9972 - val_loss: 0.2030 - val_accuracy: 0.9438\n",
      "Epoch 29/30\n",
      "1780/1780 [==============================] - 0s 108us/sample - loss: 0.0591 - accuracy: 0.9978 - val_loss: 0.2014 - val_accuracy: 0.9438\n",
      "Epoch 30/30\n",
      "1780/1780 [==============================] - 0s 78us/sample - loss: 0.0540 - accuracy: 0.9978 - val_loss: 0.2035 - val_accuracy: 0.9371\n"
     ]
    }
   ],
   "source": [
    "num_epochs = 30\n",
    "history = model.fit(train_padded, training_label_seq, epochs=num_epochs, validation_data=(validation_padded, validation_label_seq))\n",
    "\n"
   ]
  },
  {
   "cell_type": "code",
   "execution_count": 24,
   "metadata": {
    "colab": {
     "base_uri": "https://localhost:8080/",
     "height": 541
    },
    "colab_type": "code",
    "id": "dQ0BX2apXS9u",
    "outputId": "4b912554-bfb0-430d-d40b-a00339e1a73e"
   },
   "outputs": [
    {
     "data": {
      "image/png": "[encoded data removed]",
      "text/plain": [
       "<Figure size 432x288 with 1 Axes>"
      ]
     },
     "metadata": {
      "needs_background": "light"
     },
     "output_type": "display_data"
    },
    {
     "data": {
      "image/png": "[encoded data removed]",
      "text/plain": [
       "<Figure size 432x288 with 1 Axes>"
      ]
     },
     "metadata": {
      "needs_background": "light"
     },
     "output_type": "display_data"
    }
   ],
   "source": [
    "import matplotlib.pyplot as plt\n",
    "\n",
    "\n",
    "def plot_graphs(history, string):\n",
    "  plt.plot(history.history[string])\n",
    "  plt.plot(history.history['val_'+string])\n",
    "  plt.xlabel(\"Epochs\")\n",
    "  plt.ylabel(string)\n",
    "  plt.legend([string, 'val_'+string])\n",
    "  plt.show()\n",
    "  \n",
    "plot_graphs(history, \"accuracy\")\n",
    "plot_graphs(history, \"loss\")"
   ]
  },
  {
   "cell_type": "code",
   "execution_count": 25,
   "metadata": {
    "colab": {},
    "colab_type": "code",
    "id": "w7Xc-uWxXhML"
   },
   "outputs": [],
   "source": [
    "reverse_word_index = dict([(value, key) for (key, value) in word_index.items()])\n",
    "\n",
    "def decode_sentence(text):\n",
    "    return ' '.join([reverse_word_index.get(i, '?') for i in text])\n"
   ]
  },
  {
   "cell_type": "code",
   "execution_count": 27,
   "metadata": {
    "colab": {
     "base_uri": "https://localhost:8080/",
     "height": 34
    },
    "colab_type": "code",
    "id": "OhnFA_TDXrih",
    "outputId": "6d643ffe-2465-4651-f178-ebf5820b6b39"
   },
   "outputs": [
    {
     "name": "stdout",
     "output_type": "stream",
     "text": [
      "(1000, 16)\n"
     ]
    }
   ],
   "source": [
    "e = model.layers[0]\n",
    "weights = e.get_weights()[0]\n",
    "print(weights.shape) # shape: (vocab_size, embedding_dim)\n"
   ]
  },
  {
   "cell_type": "code",
   "execution_count": 0,
   "metadata": {
    "colab": {},
    "colab_type": "code",
    "id": "_POzcWWAXudL"
   },
   "outputs": [],
   "source": [
    "import io\n",
    "\n",
    "out_v = io.open('vecs.tsv', 'w', encoding='utf-8')\n",
    "out_m = io.open('meta.tsv', 'w', encoding='utf-8')\n",
    "for word_num in range(1, vocab_size):\n",
    "    word = reverse_word_index[word_num]\n",
    "    embeddings = weights[word_num]\n",
    "    out_m.write(word + \"\\n\")\n",
    "    out_v.write('\\t'.join([str(x) for x in embeddings]) + \"\\n\")\n",
    "out_v.close()\n",
    "out_m.close()"
   ]
  }
 ],
 "metadata": {
  "accelerator": "TPU",
  "colab": {
   "name": "Course 3 - Week 2 - Exercise - Question.ipynb",
   "provenance": [],
   "toc_visible": true
  },
  "kernelspec": {
   "display_name": "Python 3",
   "language": "python",
   "name": "python3"
  },
  "language_info": {
   "codemirror_mode": {
    "name": "ipython",
    "version": 3
   },
   "file_extension": ".py",
   "mimetype": "text/x-python",
   "name": "python",
   "nbconvert_exporter": "python",
   "pygments_lexer": "ipython3",
   "version": "3.7.7"
  }
 },
 "nbformat": 4,
 "nbformat_minor": 1
}
